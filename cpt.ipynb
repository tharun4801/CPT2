{
 "cells": [
  {
   "cell_type": "code",
   "execution_count": 108,
   "id": "6333e883-63db-4747-a18d-b9c3dfc5b2b0",
   "metadata": {},
   "outputs": [],
   "source": [
    "## List within a tuple"
   ]
  },
  {
   "cell_type": "code",
   "execution_count": 14,
   "id": "feda018c-8e47-4421-8637-7548893e9a9b",
   "metadata": {},
   "outputs": [
    {
     "name": "stdout",
     "output_type": "stream",
     "text": [
      "Sam\n",
      "science\n"
     ]
    }
   ],
   "source": [
    "student=(\"Sam\",[70,75,83],['math','science','english'])\n",
    "print(student[0])\n",
    "print(student[2][1])"
   ]
  },
  {
   "cell_type": "code",
   "execution_count": 38,
   "id": "d0a1be32-77e4-464b-8b0a-ed5f8317038a",
   "metadata": {},
   "outputs": [
    {
     "name": "stdout",
     "output_type": "stream",
     "text": [
      "Sam\n",
      "70\n",
      "3\n",
      "('Sam', 70, 'Engineer', 'Sam', 70, 'Engineer')\n",
      "('Sam', 70, 'Engineer', 'salary', 150000)\n"
     ]
    }
   ],
   "source": [
    "#tuple sample\n",
    "info=(\"Sam\",70,'Engineer')\n",
    "print(info[0])\n",
    "print(info[-2])\n",
    "print(len(info))\n",
    "print(info*2)\n",
    "print(info +('salary',150000))\n"
   ]
  },
  {
   "cell_type": "code",
   "execution_count": 44,
   "id": "b53f3f84-64d1-4e5a-9db6-b810de9e8076",
   "metadata": {},
   "outputs": [
    {
     "name": "stdout",
     "output_type": "stream",
     "text": [
      "2\n"
     ]
    }
   ],
   "source": [
    "# nested tuple\n",
    "nest_tp=((1,2),(3,4),(5,6))\n",
    "print(nest_tp[0][1])"
   ]
  },
  {
   "cell_type": "code",
   "execution_count": 100,
   "id": "a74fe98b-f7b7-4c01-9658-17e56a6e5ace",
   "metadata": {},
   "outputs": [
    {
     "name": "stdout",
     "output_type": "stream",
     "text": [
      "************************************Dictionary************************************\n",
      "{'name': 'Sam', 'age': 21, 'city': 'Bharuch'}\n",
      "Accessing and modify the person age\n",
      "{'name': 'Sam', 'age': 20, 'city': 'Bharuch'}\n",
      "20\n",
      "******************88********Adding and removing**********************************\n",
      " \n",
      "{'name': 'Sam', 'age': 20, 'city': 'Bharuch', 'email': 'xyz@2000gmail.com'}\n",
      " \n",
      "************************All keys and Values*************************************\n",
      "\n",
      "dict_keys(['name', 'age', 'city', 'email'])\n",
      "dict_values(['Sam', 20, 'Bharuch', 'xyz@2000gmail.com'])\n",
      " \n",
      "******************************All items******************************************\n",
      "\n",
      "dict_items([('name', 'Sam'), ('age', 20), ('city', 'Bharuch'), ('email', 'xyz@2000gmail.com')])\n",
      "20\n"
     ]
    }
   ],
   "source": [
    "# Dictionary\n",
    "print(\"************************************Dictionary************************************\")\n",
    "preson={'name':'Sam','age':21,'city':'Bharuch'}\n",
    "print(preson)\n",
    "print(\"Accessing and modify the person age\")\n",
    "preson['age']=20\n",
    "print(preson)\n",
    "print(preson['age'])\n",
    "print(\"******************88********Adding and removing**********************************\")\n",
    "print(\" \")\n",
    "preson['email'] = 'xyz@2000gmail.com'\n",
    "print(preson)\n",
    "print(' ')\n",
    "print(\"************************All keys and Values*************************************\")\n",
    "print(\"\")\n",
    "print(preson.keys())\n",
    "print(preson.values())\n",
    "print(' ')\n",
    "print(\"******************************All items******************************************\")\n",
    "print(\"\")\n",
    "print(preson.items())\n",
    "print(preson.get(\"age\"))"
   ]
  },
  {
   "cell_type": "code",
   "execution_count": 102,
   "id": "bfebb2ec-58ef-4725-ae6c-0995bf2b341d",
   "metadata": {},
   "outputs": [
    {
     "name": "stdout",
     "output_type": "stream",
     "text": [
      "50000\n"
     ]
    }
   ],
   "source": [
    "# nested dict\n",
    "info={\n",
    "    'Sam':{\"Salary\":150000,\"perks\":30000},\n",
    "    'Elon':{\"Salary\":200000,\"perks\":50000}\n",
    "}\n",
    "print(info['Elon']['perks'])"
   ]
  },
  {
   "cell_type": "code",
   "execution_count": 106,
   "id": "38ab34d7-958c-4f9d-a5f2-5fda94fd5bbd",
   "metadata": {},
   "outputs": [
    {
     "name": "stdout",
     "output_type": "stream",
     "text": [
      "Gujarat\n"
     ]
    }
   ],
   "source": [
    "# dict with tuple keys(real life example)\n",
    "location={\n",
    "    (15.9129 , 79.7400):'Andhra Pradesh',\n",
    "    (22.6708, 71.5724):'Gujarat'\n",
    "}\n",
    "\n",
    "print(location[22.6708, 71.5724])"
   ]
  },
  {
   "cell_type": "code",
   "execution_count": 19,
   "id": "33199883-7a73-43ec-8f25-eab408c52064",
   "metadata": {},
   "outputs": [
    {
     "name": "stdout",
     "output_type": "stream",
     "text": [
      "{1, 2, 3, 4, 5, 6}\n",
      "Add and remove values\n",
      "{1, 2, 3, 4, 5, 6, 7}\n",
      "{1, 3, 4, 5, 6, 7}\n",
      "{1, 3, 4, 5, 6, 7}\n",
      "Membership check\n",
      "True\n",
      "False\n"
     ]
    }
   ],
   "source": [
    "# set operations\n",
    "my_set={1,2,3,4,5,6}\n",
    "print(my_set)\n",
    "print(\"Add and remove values\")\n",
    "my_set.add(7)\n",
    "print(my_set)\n",
    "my_set.remove(2)\n",
    "print(my_set)\n",
    "my_set.discard(10)\n",
    "print(my_set)\n",
    "print(\"Membership check\")\n",
    "print(1 in my_set)\n",
    "print(10 in my_set)"
   ]
  },
  {
   "cell_type": "code",
   "execution_count": 29,
   "id": "0abab651-f431-4648-9c8d-f8e2c4754bef",
   "metadata": {},
   "outputs": [
    {
     "name": "stdout",
     "output_type": "stream",
     "text": [
      "*****************************UNION***************************\n",
      "{1, 2, 3, 4, 5, 6, 7, 8, 9}\n",
      "************************INTERSECTION***************************\n",
      "{2, 4, 5}\n",
      "************************DIFFERNECE***************************\n",
      "{1}\n",
      "********************SYMMETRIC_DIFFERNECE***************************\n",
      "{1, 3, 6, 7, 8, 9}\n"
     ]
    }
   ],
   "source": [
    "# operations\n",
    "print(\"*****************************UNION***************************\")\n",
    "a={1,1,2,4,5,5}\n",
    "b={2,3,4,5,6,7,8,9}\n",
    "print(a.union(b))\n",
    "print(\"************************INTERSECTION***************************\")\n",
    "print(a.intersection(b))\n",
    "print(\"************************DIFFERNECE***************************\")\n",
    "print(a.difference(b))\n",
    "print(\"********************SYMMETRIC_DIFFERNECE***************************\")\n",
    "print(a.symmetric_difference(b))"
   ]
  },
  {
   "cell_type": "code",
   "execution_count": 31,
   "id": "2052e862-44f7-401b-8c28-f24b8cdab99b",
   "metadata": {},
   "outputs": [
    {
     "name": "stdout",
     "output_type": "stream",
     "text": [
      "{1, 2, 3}\n"
     ]
    }
   ],
   "source": [
    "nums=[1,2,2,3]\n",
    "unique=set(nums)\n",
    "print(unique)"
   ]
  },
  {
   "cell_type": "code",
   "execution_count": 41,
   "id": "cac60b05-8bb6-4956-b5df-34bbe54e1884",
   "metadata": {},
   "outputs": [
    {
     "name": "stdout",
     "output_type": "stream",
     "text": [
      "True\n",
      "False\n",
      "True\n",
      "True\n",
      "False\n",
      "True\n"
     ]
    }
   ],
   "source": [
    "a={1,2}\n",
    "b={1,2,3,4,5}\n",
    "print(a.issubset(b))\n",
    "print(b.issubset(a))\n",
    "print(a<=b)\n",
    "print(a<b)\n",
    "print(a>=b)\n",
    "print(b>a)"
   ]
  },
  {
   "cell_type": "markdown",
   "id": "8fac7a8c-8c2b-431d-b5fa-2e2251a33da8",
   "metadata": {},
   "source": []
  },
  {
   "cell_type": "code",
   "execution_count": null,
   "id": "e98b420b-ff51-4ed0-aa3a-187566212857",
   "metadata": {},
   "outputs": [],
   "source": []
  }
 ],
 "metadata": {
  "kernelspec": {
   "display_name": "Python 3 (ipykernel)",
   "language": "python",
   "name": "python3"
  },
  "language_info": {
   "codemirror_mode": {
    "name": "ipython",
    "version": 3
   },
   "file_extension": ".py",
   "mimetype": "text/x-python",
   "name": "python",
   "nbconvert_exporter": "python",
   "pygments_lexer": "ipython3",
   "version": "3.12.7"
  }
 },
 "nbformat": 4,
 "nbformat_minor": 5
}
